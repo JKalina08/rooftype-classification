{
 "cells": [
  {
   "cell_type": "markdown",
   "metadata": {},
   "source": [
    "## Deep Learning model pro klasifikaci druhů střech  \n",
    "![Windows](https://img.shields.io/badge/Windows-0078D6?style=for-the-badge&logo=windows&logoColor=white)\n",
    "![Visual Studio Code](https://img.shields.io/badge/Visual%20Studio%20Code-0078d7.svg?style=for-the-badge&logo=visual-studio-code&logoColor=white)\n",
    "![Docker](https://img.shields.io/badge/docker-%230db7ed.svg?style=for-the-badge&logo=docker&logoColor=white)\n",
    "![nVIDIA](https://img.shields.io/badge/nVIDIA-%2376B900.svg?style=for-the-badge&logo=nVIDIA&logoColor=white)\n",
    "![Anaconda](https://img.shields.io/badge/Anaconda-%2344A833.svg?style=for-the-badge&logo=anaconda&logoColor=white)\n",
    "![PyTorch](https://img.shields.io/badge/PyTorch-%23EE4C2C.svg?style=for-the-badge&logo=PyTorch&logoColor=white)\n",
    "\n",
    "- Referenční práce: [roof type classification](https://www.int-arch-photogramm-remote-sens-spatial-inf-sci.net/XLIII-B3-2021/55/2021/)\n",
    "### 1. Data a vývojové prostředí\n",
    "**Předpoklady:**  \n",
    "- Windows s WSL2 (Windows Subsystem for Linux)\n",
    "- Ubuntu a základy Bash\n",
    "- Docker\n",
    "- Python 3, Anaconda Distribution\n",
    "- Knihovny: PyTorch, Pandas, Matplotlib\n",
    "\n",
    "\n",
    "**Klasifikované kategorie typů střech:**\n",
    "- Plochá (Flat)\n",
    "- Valbová (Hip)\n",
    "- Sedlová (Gabble)\n",
    "- Pyramidová (Pyramid)\n",
    "- Půl-valbová (Half-hip) - *Pozor nezaměňovat s Polovalbovou střechou*\n",
    "- Komplexní (Complex)  \n",
    "\n",
    "<style>\n",
    "figure{\n",
    "    display: inline-block;\n",
    "    margin: 0px;\n",
    "    padding: 0px;\n",
    "    text-align:center;\n",
    "}\n",
    "</style>\n",
    "\n",
    "<figure>\n",
    "    <img height='100' src='samp_imgs/Plochá.png'/>\n",
    "    <figcaption>Plochá</figcaption>\n",
    "</figure>\n",
    "<figure>\n",
    "    <img height='100' src='samp_imgs/Valbová.png'/>\n",
    "    <figcaption>Valbová</figcaption>\n",
    "</figure>\n",
    "<figure>\n",
    "    <img height='100' src='samp_imgs/Sedlová.png'/>\n",
    "    <figcaption>Sedlová</figcaption>\n",
    "</figure>\n",
    "<figure>\n",
    "    <img height='100' src='samp_imgs/Pyramidová.png'/>\n",
    "    <figcaption>Pyramidová</figcaption>\n",
    "</figure>  \n",
    "<figure>\n",
    "    <img height='100' src='samp_imgs/Půl-valbová.png'/>\n",
    "    <figcaption>Půl-valbová</figcaption>\n",
    "</figure>  \n",
    "<figure>\n",
    "    <img height='100' src='samp_imgs/Komplexní.png'/>\n",
    "    <figcaption>Komplexní</figcaption>\n",
    "</figure>  \n",
    "\n",
    "**Datová sada:**  \n",
    "Sestává ze snímků orotofotomapy ČR (rozlišení: 12.5 cm/px). Snímky byly staženy dle vektorových polygonů veřejné datove sady [RÚIAN](https://www.cuzk.cz/ruian/Poskytovani-udaju-ISUI-RUIAN-VDP/Vymenny-format-RUIAN-(VFR)/FAQ-casto-kladene-otazky-k-VFR/2-1-Co-je-RUIAN.aspx). K snímkům budov tedy existuje polygon (RUIAN - stavební objekt) s další sadou příznaků:\n",
    "- DOKONCENI (<span style=\"color:violet\">Datum dokončení stavebního objektu.</span>)\n",
    "- DRUHKONSTRUKCEKOD (<span style=\"color:violet\">Druh svislé nosní konstrukce.</span>)\n",
    "- OBESTAVENYPROSTOR (<span style=\"color:violet\">Obestavěný prostor v m3.</span>)\n",
    "- POCETBYTU (<span style=\"color:violet\">Počet bytů u stavebního objektu s byty.</span>)\n",
    "- POCETPODLAZI (<span style=\"color:violet\">Počet nadzemních a podzemních podlaží.</span>)\n",
    "- PODLAHOVAPLOCHA (<span style=\"color:violet\">Podlahová plocha v m2.</span>)\n",
    "- PRIPOJENIKANALIZACEKOD (<span style=\"color:violet\">Připojení na kanalizační síť.</span>)\n",
    "- PRIPOJENIPLYNKOD (<span style=\"color:violet\">Připojení na rozvod plynu.)</span>\n",
    "- PRIPOJENIVODOVODKOD (<span style=\"color:violet\">Připojení na vodovod.)</span>\n",
    "- VYBAVENIVYTAHEMKOD (<span style=\"color:violet\">Vybavení výtahem.</span>)\n",
    "- ZASTAVENAPLOCHA (<span style=\"color:violet\">Zastavčná plocha v m2.)</span>\n",
    "- ZPUSOBVYTAPENIKOD (<span style=\"color:violet\">Způsob vytápění.</span>)\n",
    "\n",
    "**Vývojové prostředí:**   \n",
    "Windows 11  -> WSL2 -> Docker -> Container Image: pytorch/pytorch\n",
    "- [PyTorch](https://pytorch.org/) v. 1.10.0 \n",
    "- CUDA version 11.3  \n",
    "\n",
    "**Spuštění kontejneru:**\n",
    "\n",
    "```console\n",
    "docker run -it  --init \\\n",
    "\t--gpus=all \\\n",
    "\t--name roofs-pytorch \\\n",
    "       \t-v \"$PWD\":/root/workspace \\\n",
    "\tpytorch/pytorch\n",
    "```\n",
    "K připojení IDE do vývojového prostředí použijeme **VS Code** s extenzí **Docker** a zvolíme možnost \"Attach VS Code to running container\".\n",
    "  \n",
    "**Knihovny k instalaci:**  \n",
    "*Kontajner v základu nemá některé důležité knihovny. Tyto je potřeba doinstalovat. Python knihovny jsou v docker-kontajneru spravovány package-managerem `conda` projektu [Anaconda Distribution](https://www.anaconda.com/products/distribution).*\n",
    "- [Pandas](https://pandas.pydata.org/)\n",
    "- [Matplotlib](https://matplotlib.org/)\n",
    "```console\n",
    "$ conda install pandas\n",
    "$ conda install -c conda-forge matplotlib\n",
    "```\n",
    "- - - "
   ]
  },
  {
   "cell_type": "markdown",
   "metadata": {},
   "source": [
    "### 2. Příprava datové sady\n",
    "TODO\n",
    "- - -"
   ]
  },
  {
   "cell_type": "markdown",
   "metadata": {},
   "source": [
    "### 3. První model, binaární klasifikace - ploche a ostatní střechy"
   ]
  },
  {
   "cell_type": "code",
   "execution_count": 1,
   "metadata": {},
   "outputs": [
    {
     "name": "stderr",
     "output_type": "stream",
     "text": [
      "/opt/conda/lib/python3.7/site-packages/tqdm/auto.py:22: TqdmWarning: IProgress not found. Please update jupyter and ipywidgets. See https://ipywidgets.readthedocs.io/en/stable/user_install.html\n",
      "  from .autonotebook import tqdm as notebook_tqdm\n"
     ]
    },
    {
     "name": "stdout",
     "output_type": "stream",
     "text": [
      "1.10.0\n",
      "True\n",
      "1\n",
      "NVIDIA GeForce RTX 3080 Laptop GPU\n",
      "11.3\n"
     ]
    }
   ],
   "source": [
    "import torch\n",
    "import torch.nn as nn\n",
    "import torch.nn.functional as F\n",
    "from torch.utils.data import DataLoader, Dataset, SubsetRandomSampler\n",
    "from torchvision import datasets, transforms, models # add models to the list\n",
    "from torchvision.utils import make_grid\n",
    "print(torch.__version__)\n",
    "print(torch.cuda.is_available())\n",
    "print(torch.cuda.device_count())\n",
    "print(torch.cuda.get_device_name(0))\n",
    "print(torch.version.cuda)"
   ]
  }
 ],
 "metadata": {
  "kernelspec": {
   "display_name": "Python 3.7.11 ('base')",
   "language": "python",
   "name": "python3"
  },
  "language_info": {
   "codemirror_mode": {
    "name": "ipython",
    "version": 3
   },
   "file_extension": ".py",
   "mimetype": "text/x-python",
   "name": "python",
   "nbconvert_exporter": "python",
   "pygments_lexer": "ipython3",
   "version": "3.7.13"
  },
  "orig_nbformat": 4,
  "vscode": {
   "interpreter": {
    "hash": "d4d1e4263499bec80672ea0156c357c1ee493ec2b1c70f0acce89fc37c4a6abe"
   }
  }
 },
 "nbformat": 4,
 "nbformat_minor": 2
}
